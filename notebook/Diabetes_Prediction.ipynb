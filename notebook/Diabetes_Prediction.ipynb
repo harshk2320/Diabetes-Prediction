{
 "cells": [
  {
   "cell_type": "markdown",
   "metadata": {},
   "source": [
    "### Importing Libraries"
   ]
  },
  {
   "cell_type": "code",
   "execution_count": 107,
   "metadata": {},
   "outputs": [],
   "source": [
    "import numpy as np\n",
    "import pandas as pd\n",
    "import matplotlib.pyplot as plt\n",
    "import seaborn as sns\n",
    "from sklearn.ensemble import RandomForestClassifier, AdaBoostClassifier\n",
    "from sklearn.tree import DecisionTreeClassifier\n",
    "from sklearn.linear_model import LogisticRegression\n",
    "from sklearn.svm import SVC\n",
    "from sklearn.metrics import confusion_matrix, accuracy_score, classification_report\n",
    "from sklearn.impute import KNNImputer\n",
    "from sklearn.preprocessing import StandardScaler\n",
    "from sklearn.model_selection import train_test_split, RandomizedSearchCV\n",
    "from imblearn.over_sampling import SMOTE\n",
    "from sklearn.ensemble import AdaBoostClassifier \n",
    "import warnings\n",
    "import pickle\n",
    "import random\n",
    "\n",
    "warnings.filterwarnings(\"ignore\")\n",
    "pd.set_option(\"display.max_columns\", None)"
   ]
  },
  {
   "cell_type": "markdown",
   "metadata": {},
   "source": [
    "### Defining Functions"
   ]
  },
  {
   "cell_type": "code",
   "execution_count": 108,
   "metadata": {},
   "outputs": [],
   "source": [
    "# Function for EDA\n",
    "def DataExp(df, target_variable):\n",
    "    print(f\" Viewing df: \\n\\n{df.head()} \\n\\n------------------------------\")\n",
    "    print(f\" Rows & Columns: {df.shape} \\n\\n------------------------------\")\n",
    "    print(f\"Dimension: {df.ndim} \\n\\n------------------------------\")\n",
    "    print(f\"dftypes: \\n\\n{df.dtypes} \\n\\n------------------------------\")\n",
    "    print(f\"Null Values: \\n\\n{df.isna().sum()} \\n\\n------------------------------\")\n",
    "    print(f\"Duplicates: \\n\\n{df.duplicated().sum()} \\n\\n------------------------------\")\n",
    "    print(f\"No Of Unique Values: \\n\\n{df.apply(lambda x: x.nunique())}\\n\\n------------------------------\")\n",
    "    print(f\"Unique Values \\n\\n{df.apply(lambda x: x.unique())} \\n\\n-----------------------------\")\n",
    "    print(\"df Summary\")\n",
    "    print()\n",
    "    print(df.info())\n",
    "    print(\"------------------------------\\n\")\n",
    "    print(\"Checking Outliers\")\n",
    "    print()\n",
    "    NumericalCols = df.select_dtypes(include= \"number\").columns\n",
    "    NumCols = len(NumericalCols)\n",
    "\n",
    "    fig, axes = plt.subplots(nrows= 3, ncols= 3, figsize= (20, 5))\n",
    "    axes = axes.flatten()\n",
    "\n",
    "    for i, dafa in enumerate(NumericalCols):\n",
    "        sns.boxplot(x= df[dafa], ax= axes[i])\n",
    "\n",
    "    plt.tight_layout()\n",
    "\n",
    "    plt.show()\n",
    "    print(\"------------------------------\\n\")\n",
    "#     print(f\"Categorical variables description: \\n\\n{df.select_dtypes(include= 'object').describe().T}\")\n",
    "    print(f\"Checking for {target_variable} distibution:\")\n",
    "    # df[target_variable].value_counts\n",
    "    # sns.barplot(y=df[target_variable].value_counts().index, x=df[target_variable].value_counts().values, orient= \"h\")\n",
    "    df[target_variable].value_counts().plot(kind=\"pie\", autopct='%1.1f%%', startangle=90, colors=['#ff9999','#66b3ff'])\n",
    "    plt.title(f'Pie Chart of {target_variable}')\n",
    "    plt.show()\n",
    "    \n",
    "    print(\"------------------------------\\n\")\n",
    "    print(\"Correlation between different variables\")\n",
    "    plt.figure(figsize= (20, 5))\n",
    "    sns.heatmap(df.corr(), annot= True)\n",
    "    plt.show()\n",
    "    print(\"------------------------------\\n\")\n",
    "    print(f\"Continous variables description: \\n\\n{df.select_dtypes(include= 'number').describe().T.applymap(lambda x: format(x, '.2f'))}\")    \n",
    "    "
   ]
  },
  {
   "cell_type": "code",
   "execution_count": 109,
   "metadata": {},
   "outputs": [],
   "source": [
    "# # # Create a bar plot\n",
    "# plt.figure(figsize= (10, 10))\n",
    "# plt.subplot(1, 2, 2)\n",
    "# sns.barplot(y=DiaData[\"Outcome\"].value_counts().index, x=DiaData[\"Outcome\"].value_counts().values, orient= \"h\")\n",
    "\n",
    "# plt.subplot(1, 2, 2)\n",
    "# DiaData[\"Outcome\"].value_counts().plot(kind=\"pie\", autopct='%1.1f%%', startangle=90, colors=['#ff9999','#66b3ff'])\n",
    "# plt.title('Pie Chart of Outcome')\n",
    "# plt.show()"
   ]
  },
  {
   "cell_type": "code",
   "execution_count": 110,
   "metadata": {},
   "outputs": [],
   "source": [
    "# DiaData[\"Outcome\"].value_counts().plot(kind = \"pie\")\n"
   ]
  },
  {
   "cell_type": "code",
   "execution_count": 111,
   "metadata": {},
   "outputs": [],
   "source": [
    "# import seaborn as sns\n",
    "# import matplotlib.pyplot as plt\n",
    "\n",
    "# # Set up the figure with 1 row, 2 columns\n",
    "# plt.figure(figsize=(12, 6))\n",
    "\n",
    "# # Create the first subplot (left side) for barplot\n",
    "# plt.subplot(1, 2, 1)\n",
    "# sns.barplot(y=DiaData[\"Outcome\"].value_counts().index, x=DiaData[\"Outcome\"].value_counts().values, orient=\"h\")\n",
    "# plt.title('Bar Plot of Outcome')\n",
    "\n",
    "# # Create the second subplot (right side) for pie chart\n",
    "# plt.subplot(1, 2, 2)\n",
    "# DiaData[\"Outcome\"].value_counts().plot(kind=\"pie\", autopct='%1.1f%%', startangle=90, colors=['#ff9999','#66b3ff'])\n",
    "# plt.title('Pie Chart of Outcome')\n",
    "\n",
    "# # Show the plots\n",
    "# plt.tight_layout()  # To make sure plots are spaced well\n",
    "# plt.show()\n"
   ]
  },
  {
   "cell_type": "code",
   "execution_count": 112,
   "metadata": {},
   "outputs": [],
   "source": [
    "# sns.plot(DiaData[\"Outcome\"].value_counts())"
   ]
  },
  {
   "cell_type": "code",
   "execution_count": 113,
   "metadata": {},
   "outputs": [],
   "source": [
    "# DiaData.columns"
   ]
  },
  {
   "cell_type": "code",
   "execution_count": 114,
   "metadata": {},
   "outputs": [],
   "source": [
    "# Function for removing outliers\n",
    "def OutlierTreat(column):\n",
    "    if column.dtype in [float, int] :\n",
    "        q1 = column.quantile(0.25)\n",
    "        q3 = column.quantile(0.75)\n",
    "        iqr = q3 - q1\n",
    "        lc = q1 - 1.5 * iqr\n",
    "        uc = q3 + 1.5 * iqr\n",
    "\n",
    "        column = column.clip(lower= lc, upper= uc)\n",
    "        return column"
   ]
  },
  {
   "cell_type": "markdown",
   "metadata": {},
   "source": [
    "#### Importing Data"
   ]
  },
  {
   "cell_type": "code",
   "execution_count": 115,
   "metadata": {},
   "outputs": [],
   "source": [
    "DiaData = pd.read_csv(r\"D:\\Projects\\Real MLOps project\\Diabetes-Prediction\\diabetes.csv\")"
   ]
  },
  {
   "cell_type": "markdown",
   "metadata": {},
   "source": [
    "#### EDA"
   ]
  },
  {
   "cell_type": "code",
   "execution_count": 116,
   "metadata": {},
   "outputs": [
    {
     "name": "stdout",
     "output_type": "stream",
     "text": [
      " Viewing df: \n",
      "\n",
      "   Pregnancies  Glucose  BloodPressure  SkinThickness  Insulin   BMI  \\\n",
      "0            6      148             72             35        0  33.6   \n",
      "1            1       85             66             29        0  26.6   \n",
      "2            8      183             64              0        0  23.3   \n",
      "3            1       89             66             23       94  28.1   \n",
      "4            0      137             40             35      168  43.1   \n",
      "\n",
      "   DiabetesPedigreeFunction  Age  Outcome  \n",
      "0                     0.627   50        1  \n",
      "1                     0.351   31        0  \n",
      "2                     0.672   32        1  \n",
      "3                     0.167   21        0  \n",
      "4                     2.288   33        1   \n",
      "\n",
      "------------------------------\n",
      " Rows & Columns: (768, 9) \n",
      "\n",
      "------------------------------\n",
      "Dimension: 2 \n",
      "\n",
      "------------------------------\n",
      "dftypes: \n",
      "\n",
      "Pregnancies                   int64\n",
      "Glucose                       int64\n",
      "BloodPressure                 int64\n",
      "SkinThickness                 int64\n",
      "Insulin                       int64\n",
      "BMI                         float64\n",
      "DiabetesPedigreeFunction    float64\n",
      "Age                           int64\n",
      "Outcome                       int64\n",
      "dtype: object \n",
      "\n",
      "------------------------------\n",
      "Null Values: \n",
      "\n",
      "Pregnancies                 0\n",
      "Glucose                     0\n",
      "BloodPressure               0\n",
      "SkinThickness               0\n",
      "Insulin                     0\n",
      "BMI                         0\n",
      "DiabetesPedigreeFunction    0\n",
      "Age                         0\n",
      "Outcome                     0\n",
      "dtype: int64 \n",
      "\n",
      "------------------------------\n",
      "Duplicates: \n",
      "\n",
      "0 \n",
      "\n",
      "------------------------------\n",
      "No Of Unique Values: \n",
      "\n",
      "Pregnancies                  17\n",
      "Glucose                     136\n",
      "BloodPressure                47\n",
      "SkinThickness                51\n",
      "Insulin                     186\n",
      "BMI                         248\n",
      "DiabetesPedigreeFunction    517\n",
      "Age                          52\n",
      "Outcome                       2\n",
      "dtype: int64\n",
      "\n",
      "------------------------------\n",
      "Unique Values \n",
      "\n",
      "Pregnancies                 [6, 1, 8, 0, 5, 3, 10, 2, 4, 7, 9, 11, 13, 15,...\n",
      "Glucose                     [148, 85, 183, 89, 137, 116, 78, 115, 197, 125...\n",
      "BloodPressure               [72, 66, 64, 40, 74, 50, 0, 70, 96, 92, 80, 60...\n",
      "SkinThickness               [35, 29, 0, 23, 32, 45, 19, 47, 38, 30, 41, 33...\n",
      "Insulin                     [0, 94, 168, 88, 543, 846, 175, 230, 83, 96, 2...\n",
      "BMI                         [33.6, 26.6, 23.3, 28.1, 43.1, 25.6, 31.0, 35....\n",
      "DiabetesPedigreeFunction    [0.627, 0.351, 0.672, 0.167, 2.288, 0.201, 0.2...\n",
      "Age                         [50, 31, 32, 21, 33, 30, 26, 29, 53, 54, 34, 5...\n",
      "Outcome                                                                [1, 0]\n",
      "dtype: object \n",
      "\n",
      "-----------------------------\n",
      "df Summary\n",
      "\n",
      "<class 'pandas.core.frame.DataFrame'>\n",
      "RangeIndex: 768 entries, 0 to 767\n",
      "Data columns (total 9 columns):\n",
      " #   Column                    Non-Null Count  Dtype  \n",
      "---  ------                    --------------  -----  \n",
      " 0   Pregnancies               768 non-null    int64  \n",
      " 1   Glucose                   768 non-null    int64  \n",
      " 2   BloodPressure             768 non-null    int64  \n",
      " 3   SkinThickness             768 non-null    int64  \n",
      " 4   Insulin                   768 non-null    int64  \n",
      " 5   BMI                       768 non-null    float64\n",
      " 6   DiabetesPedigreeFunction  768 non-null    float64\n",
      " 7   Age                       768 non-null    int64  \n",
      " 8   Outcome                   768 non-null    int64  \n",
      "dtypes: float64(2), int64(7)\n",
      "memory usage: 54.1 KB\n",
      "None\n",
      "------------------------------\n",
      "\n",
      "Checking Outliers\n",
      "\n"
     ]
    },
    {
     "data": {
      "image/png": "[encoded data removed]",
      "text/plain": [
       "<Figure size 1440x360 with 9 Axes>"
      ]
     },
     "metadata": {
      "needs_background": "light"
     },
     "output_type": "display_data"
    },
    {
     "name": "stdout",
     "output_type": "stream",
     "text": [
      "------------------------------\n",
      "\n",
      "Checking for Outcome distibution:\n"
     ]
    },
    {
     "data": {
      "image/png": "[encoded data removed]",
      "text/plain": [
       "<Figure size 432x288 with 1 Axes>"
      ]
     },
     "metadata": {},
     "output_type": "display_data"
    },
    {
     "name": "stdout",
     "output_type": "stream",
     "text": [
      "------------------------------\n",
      "\n",
      "Correlation between different variables\n"
     ]
    },
    {
     "data": {
      "image/png": "[encoded data removed]",
      "text/plain": [
       "<Figure size 1440x360 with 2 Axes>"
      ]
     },
     "metadata": {
      "needs_background": "light"
     },
     "output_type": "display_data"
    },
    {
     "name": "stdout",
     "output_type": "stream",
     "text": [
      "------------------------------\n",
      "\n",
      "Continous variables description: \n",
      "\n",
      "                           count    mean     std    min    25%     50%  \\\n",
      "Pregnancies               768.00    3.85    3.37   0.00   1.00    3.00   \n",
      "Glucose                   768.00  120.89   31.97   0.00  99.00  117.00   \n",
      "BloodPressure             768.00   69.11   19.36   0.00  62.00   72.00   \n",
      "SkinThickness             768.00   20.54   15.95   0.00   0.00   23.00   \n",
      "Insulin                   768.00   79.80  115.24   0.00   0.00   30.50   \n",
      "BMI                       768.00   31.99    7.88   0.00  27.30   32.00   \n",
      "DiabetesPedigreeFunction  768.00    0.47    0.33   0.08   0.24    0.37   \n",
      "Age                       768.00   33.24   11.76  21.00  24.00   29.00   \n",
      "Outcome                   768.00    0.35    0.48   0.00   0.00    0.00   \n",
      "\n",
      "                             75%     max  \n",
      "Pregnancies                 6.00   17.00  \n",
      "Glucose                   140.25  199.00  \n",
      "BloodPressure              80.00  122.00  \n",
      "SkinThickness              32.00   99.00  \n",
      "Insulin                   127.25  846.00  \n",
      "BMI                        36.60   67.10  \n",
      "DiabetesPedigreeFunction    0.63    2.42  \n",
      "Age                        41.00   81.00  \n",
      "Outcome                     1.00    1.00  \n"
     ]
    }
   ],
   "source": [
    "DataExp(DiaData, \"Outcome\")"
   ]
  },
  {
   "cell_type": "markdown",
   "metadata": {},
   "source": [
    "#### Data Pre-Processing"
   ]
  },
  {
   "cell_type": "markdown",
   "metadata": {},
   "source": [
    "##### Treating Noise:\n",
    "- We have 0s in some columns which dont make sense, so we will replace 0s with np.nan or null values and later impute them with central dencies\n"
   ]
  },
  {
   "cell_type": "code",
   "execution_count": 117,
   "metadata": {},
   "outputs": [],
   "source": [
    "for i in [\"Glucose\", \"BloodPressure\", \"SkinThickness\", \"Insulin\", \"BMI\"]:\n",
    "    DiaData.loc[DiaData[i] == 0, i] = np.nan"
   ]
  },
  {
   "cell_type": "markdown",
   "metadata": {},
   "source": [
    "##### Treating Missings"
   ]
  },
  {
   "cell_type": "code",
   "execution_count": 118,
   "metadata": {},
   "outputs": [],
   "source": [
    "knn_inpute = KNNImputer(n_neighbors= 5, weights= \"distance\")\n",
    "\n",
    "DiaData = pd.DataFrame(knn_inpute.fit_transform(DiaData), columns= DiaData.columns)"
   ]
  },
  {
   "cell_type": "code",
   "execution_count": 119,
   "metadata": {},
   "outputs": [
    {
     "data": {
      "text/plain": [
       "Index(['Pregnancies', 'Glucose', 'BloodPressure', 'SkinThickness', 'Insulin',\n",
       "       'BMI', 'DiabetesPedigreeFunction', 'Age', 'Outcome'],\n",
       "      dtype='object')"
      ]
     },
     "execution_count": 119,
     "metadata": {},
     "output_type": "execute_result"
    }
   ],
   "source": [
    "DiaData.select_dtypes('number').columns"
   ]
  },
  {
   "cell_type": "code",
   "execution_count": 120,
   "metadata": {},
   "outputs": [],
   "source": [
    "for i in ['Pregnancies', 'Glucose', 'BloodPressure', 'SkinThickness', 'Insulin', 'BMI', 'DiabetesPedigreeFunction', 'Age']:\n",
    "    q1 = DiaData[i].quantile(0.25)\n",
    "    q3 = DiaData[i].quantile(0.75)\n",
    "    iqr = q3 - q1\n",
    "    lc = q1 - 1.5 * iqr\n",
    "    uc = q3 + 1.5 * iqr\n",
    "\n",
    "    DiaData[i] = DiaData[i].clip(lower= lc, upper= uc)\n"
   ]
  },
  {
   "cell_type": "code",
   "execution_count": 121,
   "metadata": {},
   "outputs": [
    {
     "name": "stdout",
     "output_type": "stream",
     "text": [
      " Viewing df: \n",
      "\n",
      "   Pregnancies  Glucose  BloodPressure  SkinThickness     Insulin   BMI  \\\n",
      "0          6.0    148.0           72.0      35.000000  165.941157  33.6   \n",
      "1          1.0     85.0           66.0      29.000000   60.705334  26.6   \n",
      "2          8.0    183.0           64.0      26.111667  172.186312  23.3   \n",
      "3          1.0     89.0           66.0      23.000000   94.000000  28.1   \n",
      "4          0.0    137.0           40.0      35.000000  168.000000  43.1   \n",
      "\n",
      "   DiabetesPedigreeFunction   Age  Outcome  \n",
      "0                     0.627  50.0      1.0  \n",
      "1                     0.351  31.0      0.0  \n",
      "2                     0.672  32.0      1.0  \n",
      "3                     0.167  21.0      0.0  \n",
      "4                     1.200  33.0      1.0   \n",
      "\n",
      "------------------------------\n",
      " Rows & Columns: (768, 9) \n",
      "\n",
      "------------------------------\n",
      "Dimension: 2 \n",
      "\n",
      "------------------------------\n",
      "dftypes: \n",
      "\n",
      "Pregnancies                 float64\n",
      "Glucose                     float64\n",
      "BloodPressure               float64\n",
      "SkinThickness               float64\n",
      "Insulin                     float64\n",
      "BMI                         float64\n",
      "DiabetesPedigreeFunction    float64\n",
      "Age                         float64\n",
      "Outcome                     float64\n",
      "dtype: object \n",
      "\n",
      "------------------------------\n",
      "Null Values: \n",
      "\n",
      "Pregnancies                 0\n",
      "Glucose                     0\n",
      "BloodPressure               0\n",
      "SkinThickness               0\n",
      "Insulin                     0\n",
      "BMI                         0\n",
      "DiabetesPedigreeFunction    0\n",
      "Age                         0\n",
      "Outcome                     0\n",
      "dtype: int64 \n",
      "\n",
      "------------------------------\n",
      "Duplicates: \n",
      "\n",
      "0 \n",
      "\n",
      "------------------------------\n",
      "No Of Unique Values: \n",
      "\n",
      "Pregnancies                  15\n",
      "Glucose                     140\n",
      "BloodPressure                73\n",
      "SkinThickness               273\n",
      "Insulin                     530\n",
      "BMI                         252\n",
      "DiabetesPedigreeFunction    490\n",
      "Age                          47\n",
      "Outcome                       2\n",
      "dtype: int64\n",
      "\n",
      "------------------------------\n",
      "Unique Values \n",
      "\n",
      "Pregnancies                 [6.0, 1.0, 8.0, 0.0, 5.0, 3.0, 10.0, 2.0, 4.0,...\n",
      "Glucose                     [148.0, 85.0, 183.0, 89.0, 137.0, 116.0, 78.0,...\n",
      "BloodPressure               [72.0, 66.0, 64.0, 40.0, 74.0, 50.0, 77.384501...\n",
      "SkinThickness               [35.0, 29.0, 26.11166652053261, 23.0, 20.31416...\n",
      "Insulin                     [165.94115724541285, 60.70533446583239, 172.18...\n",
      "BMI                         [33.6, 26.6, 23.3, 28.1, 43.1, 25.6, 31.0, 35....\n",
      "DiabetesPedigreeFunction    [0.627, 0.351, 0.672, 0.167, 1.2, 0.201, 0.248...\n",
      "Age                         [50.0, 31.0, 32.0, 21.0, 33.0, 30.0, 26.0, 29....\n",
      "Outcome                                                            [1.0, 0.0]\n",
      "dtype: object \n",
      "\n",
      "-----------------------------\n",
      "df Summary\n",
      "\n",
      "<class 'pandas.core.frame.DataFrame'>\n",
      "RangeIndex: 768 entries, 0 to 767\n",
      "Data columns (total 9 columns):\n",
      " #   Column                    Non-Null Count  Dtype  \n",
      "---  ------                    --------------  -----  \n",
      " 0   Pregnancies               768 non-null    float64\n",
      " 1   Glucose                   768 non-null    float64\n",
      " 2   BloodPressure             768 non-null    float64\n",
      " 3   SkinThickness             768 non-null    float64\n",
      " 4   Insulin                   768 non-null    float64\n",
      " 5   BMI                       768 non-null    float64\n",
      " 6   DiabetesPedigreeFunction  768 non-null    float64\n",
      " 7   Age                       768 non-null    float64\n",
      " 8   Outcome                   768 non-null    float64\n",
      "dtypes: float64(9)\n",
      "memory usage: 54.1 KB\n",
      "None\n",
      "------------------------------\n",
      "\n",
      "Checking Outliers\n",
      "\n"
     ]
    },
    {
     "data": {
      "image/png": "[encoded data removed]",
      "text/plain": [
       "<Figure size 1440x360 with 9 Axes>"
      ]
     },
     "metadata": {
      "needs_background": "light"
     },
     "output_type": "display_data"
    },
    {
     "name": "stdout",
     "output_type": "stream",
     "text": [
      "------------------------------\n",
      "\n",
      "Checking for Outcome distibution:\n"
     ]
    },
    {
     "data": {
      "image/png": "[encoded data removed]",
      "text/plain": [
       "<Figure size 432x288 with 1 Axes>"
      ]
     },
     "metadata": {},
     "output_type": "display_data"
    },
    {
     "name": "stdout",
     "output_type": "stream",
     "text": [
      "------------------------------\n",
      "\n",
      "Correlation between different variables\n"
     ]
    },
    {
     "data": {
      "image/png": "[encoded data removed]",
      "text/plain": [
       "<Figure size 1440x360 with 2 Axes>"
      ]
     },
     "metadata": {
      "needs_background": "light"
     },
     "output_type": "display_data"
    },
    {
     "name": "stdout",
     "output_type": "stream",
     "text": [
      "------------------------------\n",
      "\n",
      "Continous variables description: \n",
      "\n",
      "                           count    mean    std    min    25%     50%     75%  \\\n",
      "Pregnancies               768.00    3.84   3.34   0.00   1.00    3.00    6.00   \n",
      "Glucose                   768.00  121.59  30.51  44.00  99.00  117.00  140.25   \n",
      "BloodPressure             768.00   72.35  11.81  40.00  64.00   72.00   80.00   \n",
      "SkinThickness             768.00   29.03   9.06   7.00  23.00   29.00   35.00   \n",
      "Insulin                   768.00  148.01  79.76  14.00  88.00  133.93  189.91   \n",
      "BMI                       768.00   32.37   6.68  18.20  27.50   32.06   36.60   \n",
      "DiabetesPedigreeFunction  768.00    0.46   0.29   0.08   0.24    0.37    0.63   \n",
      "Age                       768.00   33.20  11.63  21.00  24.00   29.00   41.00   \n",
      "Outcome                   768.00    0.35   0.48   0.00   0.00    0.00    1.00   \n",
      "\n",
      "                             max  \n",
      "Pregnancies                13.50  \n",
      "Glucose                   199.00  \n",
      "BloodPressure             104.00  \n",
      "SkinThickness              53.00  \n",
      "Insulin                   342.78  \n",
      "BMI                        50.25  \n",
      "DiabetesPedigreeFunction    1.20  \n",
      "Age                        66.50  \n",
      "Outcome                     1.00  \n"
     ]
    }
   ],
   "source": [
    "DataExp(DiaData, \"Outcome\")"
   ]
  },
  {
   "cell_type": "markdown",
   "metadata": {},
   "source": [
    "##### Defining X and y "
   ]
  },
  {
   "cell_type": "code",
   "execution_count": 122,
   "metadata": {},
   "outputs": [],
   "source": [
    "X = DiaData.drop(columns= \"Outcome\")\n",
    "y = DiaData[\"Outcome\"]"
   ]
  },
  {
   "cell_type": "markdown",
   "metadata": {},
   "source": [
    "##### Scaling Variables"
   ]
  },
  {
   "cell_type": "code",
   "execution_count": 123,
   "metadata": {},
   "outputs": [],
   "source": [
    "StdScale = StandardScaler()\n",
    "X = pd.DataFrame(StdScale.fit_transform(X), columns= X.columns)"
   ]
  },
  {
   "cell_type": "code",
   "execution_count": 124,
   "metadata": {},
   "outputs": [
    {
     "data": {
      "text/html": [
       "<div>\n",
       "<style scoped>\n",
       "    .dataframe tbody tr th:only-of-type {\n",
       "        vertical-align: middle;\n",
       "    }\n",
       "\n",
       "    .dataframe tbody tr th {\n",
       "        vertical-align: top;\n",
       "    }\n",
       "\n",
       "    .dataframe thead th {\n",
       "        text-align: right;\n",
       "    }\n",
       "</style>\n",
       "<table border=\"1\" class=\"dataframe\">\n",
       "  <thead>\n",
       "    <tr style=\"text-align: right;\">\n",
       "      <th></th>\n",
       "      <th>Pregnancies</th>\n",
       "      <th>Glucose</th>\n",
       "      <th>BloodPressure</th>\n",
       "      <th>SkinThickness</th>\n",
       "      <th>Insulin</th>\n",
       "      <th>BMI</th>\n",
       "      <th>DiabetesPedigreeFunction</th>\n",
       "      <th>Age</th>\n",
       "      <th>Outcome</th>\n",
       "    </tr>\n",
       "  </thead>\n",
       "  <tbody>\n",
       "    <tr>\n",
       "      <th>0</th>\n",
       "      <td>6.0</td>\n",
       "      <td>148.0</td>\n",
       "      <td>72.0</td>\n",
       "      <td>35.000000</td>\n",
       "      <td>165.941157</td>\n",
       "      <td>33.6</td>\n",
       "      <td>0.627</td>\n",
       "      <td>50.0</td>\n",
       "      <td>1.0</td>\n",
       "    </tr>\n",
       "    <tr>\n",
       "      <th>1</th>\n",
       "      <td>1.0</td>\n",
       "      <td>85.0</td>\n",
       "      <td>66.0</td>\n",
       "      <td>29.000000</td>\n",
       "      <td>60.705334</td>\n",
       "      <td>26.6</td>\n",
       "      <td>0.351</td>\n",
       "      <td>31.0</td>\n",
       "      <td>0.0</td>\n",
       "    </tr>\n",
       "    <tr>\n",
       "      <th>2</th>\n",
       "      <td>8.0</td>\n",
       "      <td>183.0</td>\n",
       "      <td>64.0</td>\n",
       "      <td>26.111667</td>\n",
       "      <td>172.186312</td>\n",
       "      <td>23.3</td>\n",
       "      <td>0.672</td>\n",
       "      <td>32.0</td>\n",
       "      <td>1.0</td>\n",
       "    </tr>\n",
       "    <tr>\n",
       "      <th>3</th>\n",
       "      <td>1.0</td>\n",
       "      <td>89.0</td>\n",
       "      <td>66.0</td>\n",
       "      <td>23.000000</td>\n",
       "      <td>94.000000</td>\n",
       "      <td>28.1</td>\n",
       "      <td>0.167</td>\n",
       "      <td>21.0</td>\n",
       "      <td>0.0</td>\n",
       "    </tr>\n",
       "    <tr>\n",
       "      <th>4</th>\n",
       "      <td>0.0</td>\n",
       "      <td>137.0</td>\n",
       "      <td>40.0</td>\n",
       "      <td>35.000000</td>\n",
       "      <td>168.000000</td>\n",
       "      <td>43.1</td>\n",
       "      <td>1.200</td>\n",
       "      <td>33.0</td>\n",
       "      <td>1.0</td>\n",
       "    </tr>\n",
       "  </tbody>\n",
       "</table>\n",
       "</div>"
      ],
      "text/plain": [
       "   Pregnancies  Glucose  BloodPressure  SkinThickness     Insulin   BMI  \\\n",
       "0          6.0    148.0           72.0      35.000000  165.941157  33.6   \n",
       "1          1.0     85.0           66.0      29.000000   60.705334  26.6   \n",
       "2          8.0    183.0           64.0      26.111667  172.186312  23.3   \n",
       "3          1.0     89.0           66.0      23.000000   94.000000  28.1   \n",
       "4          0.0    137.0           40.0      35.000000  168.000000  43.1   \n",
       "\n",
       "   DiabetesPedigreeFunction   Age  Outcome  \n",
       "0                     0.627  50.0      1.0  \n",
       "1                     0.351  31.0      0.0  \n",
       "2                     0.672  32.0      1.0  \n",
       "3                     0.167  21.0      0.0  \n",
       "4                     1.200  33.0      1.0  "
      ]
     },
     "execution_count": 124,
     "metadata": {},
     "output_type": "execute_result"
    }
   ],
   "source": [
    "DiaData.head()"
   ]
  },
  {
   "cell_type": "markdown",
   "metadata": {},
   "source": [
    "#### Splitting Data into Train and Test"
   ]
  },
  {
   "cell_type": "code",
   "execution_count": 125,
   "metadata": {},
   "outputs": [],
   "source": [
    "X_train, X_test,y_train, y_test =  train_test_split(X, y, test_size=.4, random_state= 42)"
   ]
  },
  {
   "cell_type": "code",
   "execution_count": 126,
   "metadata": {},
   "outputs": [
    {
     "data": {
      "text/plain": [
       "((460, 8), (460,), (308, 8), (308,))"
      ]
     },
     "execution_count": 126,
     "metadata": {},
     "output_type": "execute_result"
    }
   ],
   "source": [
    "X_train.shape, y_train.shape, X_test.shape, y_test.shape"
   ]
  },
  {
   "cell_type": "markdown",
   "metadata": {},
   "source": [
    "#### Balancing the Data"
   ]
  },
  {
   "cell_type": "code",
   "execution_count": 127,
   "metadata": {},
   "outputs": [],
   "source": [
    "smote = SMOTE(random_state= 42)\n",
    "X_train_smote, y_train_smote = smote.fit_resample(X_train, y_train)"
   ]
  },
  {
   "cell_type": "markdown",
   "metadata": {},
   "source": [
    "#### Model Training and Testing"
   ]
  },
  {
   "cell_type": "code",
   "execution_count": 128,
   "metadata": {},
   "outputs": [],
   "source": [
    "# Function to see the accuracy model wise \n",
    "\n",
    "def BestAlgorithm(Xtrain, Xtest, Ytrain, Ytest):\n",
    "    models = {\n",
    "        \"Logistic Regression\": (LogisticRegression(), {\n",
    "            'fit_intercept': [True, False]}),\n",
    "\n",
    "\n",
    "       \"Decision Tree\": (DecisionTreeClassifier(random_state= 42), {\n",
    "            'max_depth': [None, 5, 10, 20, 30],\n",
    "            'min_samples_split': [2, 5, 10, 20],\n",
    "            'min_samples_leaf': [1, 2, 5, 10]}),\n",
    "\n",
    "        \"Random Forest\": (RandomForestClassifier(random_state= 42), {\n",
    "            \"n_estimators\": np.arange(50, 200, 5), \n",
    "            \"max_depth\": np.arange(1, 10, 1), \n",
    "            \"max_features\": [\"auto\", \"sqrt\", \"log2\", 0.2, 0.5],\n",
    "            \"min_samples_leaf\": np.arange(2, 10, 1),\n",
    "            \"min_samples_split\": np.arange(2, 10, 1)})\n",
    "        ,\n",
    "        \n",
    "        \"SVM\": (SVC(), {\n",
    "            'C': np.linspace(0.01, 10, num=10),\n",
    "            'kernel': ['linear', 'rbf', 'poly'],\n",
    "            'gamma': ['scale', 'auto', 0.001, 0.01, 0.1, 1]}),\n",
    "\n",
    "        \n",
    "\n",
    "        }\n",
    "\n",
    "    results= []\n",
    "\n",
    "    for name, (model, params) in models.items():\n",
    "        RandSearch = RandomizedSearchCV(estimator= model, \n",
    "                                        param_distributions= params)\n",
    "        RandSearch.fit(Xtrain, Ytrain)\n",
    "        BestParams = RandSearch.best_params_\n",
    "        TrainingBestScore = RandSearch.best_score_\n",
    "        \n",
    "        if name == \"Logistic Regression\":\n",
    "            TestingBestScore= accuracy_score(Ytest, LogisticRegression(**RandSearch.best_params_).fit(Xtrain, Ytrain).predict(Xtest))\n",
    "\n",
    "        elif name == \"Decision Tree\":\n",
    "            TestingBestScore= accuracy_score(Ytest, DecisionTreeClassifier(**RandSearch.best_params_).fit(Xtrain, Ytrain).predict(Xtest))\n",
    "        \n",
    "        elif name == \"Random Forest\":\n",
    "            TestingBestScore= accuracy_score(Ytest, RandomForestClassifier(**RandSearch.best_params_).fit(Xtrain, Ytrain).predict(Xtest))\n",
    "    \n",
    "        else:\n",
    "            TestingBestScore= accuracy_score(Ytest, SVC(**RandSearch.best_params_).fit(Xtrain, Ytrain).predict(Xtest))\n",
    "\n",
    "        results.append({\"Model\": name, \n",
    "                        \"Best Parametres\": BestParams, \n",
    "                        \"Training Accuracy\": TrainingBestScore,\n",
    "                        \"Test Accuracy\": TestingBestScore,\n",
    "                        \"Difference\": TestingBestScore - TrainingBestScore})\n",
    "    results_df = pd.DataFrame(results)         \n",
    "    return results_df\n"
   ]
  },
  {
   "cell_type": "code",
   "execution_count": 129,
   "metadata": {},
   "outputs": [],
   "source": [
    "result_df = BestAlgorithm(X_train_smote, X_test, y_train_smote, y_test)"
   ]
  },
  {
   "cell_type": "code",
   "execution_count": 130,
   "metadata": {},
   "outputs": [
    {
     "data": {
      "text/html": [
       "<div>\n",
       "<style scoped>\n",
       "    .dataframe tbody tr th:only-of-type {\n",
       "        vertical-align: middle;\n",
       "    }\n",
       "\n",
       "    .dataframe tbody tr th {\n",
       "        vertical-align: top;\n",
       "    }\n",
       "\n",
       "    .dataframe thead th {\n",
       "        text-align: right;\n",
       "    }\n",
       "</style>\n",
       "<table border=\"1\" class=\"dataframe\">\n",
       "  <thead>\n",
       "    <tr style=\"text-align: right;\">\n",
       "      <th></th>\n",
       "      <th>Model</th>\n",
       "      <th>Best Parametres</th>\n",
       "      <th>Training Accuracy</th>\n",
       "      <th>Test Accuracy</th>\n",
       "      <th>Difference</th>\n",
       "    </tr>\n",
       "  </thead>\n",
       "  <tbody>\n",
       "    <tr>\n",
       "      <th>0</th>\n",
       "      <td>Logistic Regression</td>\n",
       "      <td>{'fit_intercept': False}</td>\n",
       "      <td>0.767072</td>\n",
       "      <td>0.724026</td>\n",
       "      <td>-0.043046</td>\n",
       "    </tr>\n",
       "    <tr>\n",
       "      <th>1</th>\n",
       "      <td>Decision Tree</td>\n",
       "      <td>{'min_samples_split': 20, 'min_samples_leaf': ...</td>\n",
       "      <td>0.797827</td>\n",
       "      <td>0.704545</td>\n",
       "      <td>-0.093282</td>\n",
       "    </tr>\n",
       "    <tr>\n",
       "      <th>2</th>\n",
       "      <td>Random Forest</td>\n",
       "      <td>{'n_estimators': 190, 'min_samples_split': 7, ...</td>\n",
       "      <td>0.804505</td>\n",
       "      <td>0.743506</td>\n",
       "      <td>-0.060999</td>\n",
       "    </tr>\n",
       "    <tr>\n",
       "      <th>3</th>\n",
       "      <td>SVM</td>\n",
       "      <td>{'kernel': 'rbf', 'gamma': 1, 'C': 2.23}</td>\n",
       "      <td>0.826684</td>\n",
       "      <td>0.685065</td>\n",
       "      <td>-0.141619</td>\n",
       "    </tr>\n",
       "  </tbody>\n",
       "</table>\n",
       "</div>"
      ],
      "text/plain": [
       "                 Model                                    Best Parametres  \\\n",
       "0  Logistic Regression                           {'fit_intercept': False}   \n",
       "1        Decision Tree  {'min_samples_split': 20, 'min_samples_leaf': ...   \n",
       "2        Random Forest  {'n_estimators': 190, 'min_samples_split': 7, ...   \n",
       "3                  SVM           {'kernel': 'rbf', 'gamma': 1, 'C': 2.23}   \n",
       "\n",
       "   Training Accuracy  Test Accuracy  Difference  \n",
       "0           0.767072       0.724026   -0.043046  \n",
       "1           0.797827       0.704545   -0.093282  \n",
       "2           0.804505       0.743506   -0.060999  \n",
       "3           0.826684       0.685065   -0.141619  "
      ]
     },
     "execution_count": 130,
     "metadata": {},
     "output_type": "execute_result"
    }
   ],
   "source": [
    "result_df"
   ]
  },
  {
   "cell_type": "code",
   "execution_count": 131,
   "metadata": {},
   "outputs": [
    {
     "data": {
      "text/html": [
       "<style>#sk-container-id-2 {color: black;background-color: white;}#sk-container-id-2 pre{padding: 0;}#sk-container-id-2 div.sk-toggleable {background-color: white;}#sk-container-id-2 label.sk-toggleable__label {cursor: pointer;display: block;width: 100%;margin-bottom: 0;padding: 0.3em;box-sizing: border-box;text-align: center;}#sk-container-id-2 label.sk-toggleable__label-arrow:before {content: \"▸\";float: left;margin-right: 0.25em;color: #696969;}#sk-container-id-2 label.sk-toggleable__label-arrow:hover:before {color: black;}#sk-container-id-2 div.sk-estimator:hover label.sk-toggleable__label-arrow:before {color: black;}#sk-container-id-2 div.sk-toggleable__content {max-height: 0;max-width: 0;overflow: hidden;text-align: left;background-color: #f0f8ff;}#sk-container-id-2 div.sk-toggleable__content pre {margin: 0.2em;color: black;border-radius: 0.25em;background-color: #f0f8ff;}#sk-container-id-2 input.sk-toggleable__control:checked~div.sk-toggleable__content {max-height: 200px;max-width: 100%;overflow: auto;}#sk-container-id-2 input.sk-toggleable__control:checked~label.sk-toggleable__label-arrow:before {content: \"▾\";}#sk-container-id-2 div.sk-estimator input.sk-toggleable__control:checked~label.sk-toggleable__label {background-color: #d4ebff;}#sk-container-id-2 div.sk-label input.sk-toggleable__control:checked~label.sk-toggleable__label {background-color: #d4ebff;}#sk-container-id-2 input.sk-hidden--visually {border: 0;clip: rect(1px 1px 1px 1px);clip: rect(1px, 1px, 1px, 1px);height: 1px;margin: -1px;overflow: hidden;padding: 0;position: absolute;width: 1px;}#sk-container-id-2 div.sk-estimator {font-family: monospace;background-color: #f0f8ff;border: 1px dotted black;border-radius: 0.25em;box-sizing: border-box;margin-bottom: 0.5em;}#sk-container-id-2 div.sk-estimator:hover {background-color: #d4ebff;}#sk-container-id-2 div.sk-parallel-item::after {content: \"\";width: 100%;border-bottom: 1px solid gray;flex-grow: 1;}#sk-container-id-2 div.sk-label:hover label.sk-toggleable__label {background-color: #d4ebff;}#sk-container-id-2 div.sk-serial::before {content: \"\";position: absolute;border-left: 1px solid gray;box-sizing: border-box;top: 0;bottom: 0;left: 50%;z-index: 0;}#sk-container-id-2 div.sk-serial {display: flex;flex-direction: column;align-items: center;background-color: white;padding-right: 0.2em;padding-left: 0.2em;position: relative;}#sk-container-id-2 div.sk-item {position: relative;z-index: 1;}#sk-container-id-2 div.sk-parallel {display: flex;align-items: stretch;justify-content: center;background-color: white;position: relative;}#sk-container-id-2 div.sk-item::before, #sk-container-id-2 div.sk-parallel-item::before {content: \"\";position: absolute;border-left: 1px solid gray;box-sizing: border-box;top: 0;bottom: 0;left: 50%;z-index: -1;}#sk-container-id-2 div.sk-parallel-item {display: flex;flex-direction: column;z-index: 1;position: relative;background-color: white;}#sk-container-id-2 div.sk-parallel-item:first-child::after {align-self: flex-end;width: 50%;}#sk-container-id-2 div.sk-parallel-item:last-child::after {align-self: flex-start;width: 50%;}#sk-container-id-2 div.sk-parallel-item:only-child::after {width: 0;}#sk-container-id-2 div.sk-dashed-wrapped {border: 1px dashed gray;margin: 0 0.4em 0.5em 0.4em;box-sizing: border-box;padding-bottom: 0.4em;background-color: white;}#sk-container-id-2 div.sk-label label {font-family: monospace;font-weight: bold;display: inline-block;line-height: 1.2em;}#sk-container-id-2 div.sk-label-container {text-align: center;}#sk-container-id-2 div.sk-container {/* jupyter's `normalize.less` sets `[hidden] { display: none; }` but bootstrap.min.css set `[hidden] { display: none !important; }` so we also need the `!important` here to be able to override the default hidden behavior on the sphinx rendered scikit-learn.org. See: https://github.com/scikit-learn/scikit-learn/issues/21755 */display: inline-block !important;position: relative;}#sk-container-id-2 div.sk-text-repr-fallback {display: none;}</style><div id=\"sk-container-id-2\" class=\"sk-top-container\"><div class=\"sk-text-repr-fallback\"><pre>LogisticRegression(fit_intercept=False, random_state=42)</pre><b>In a Jupyter environment, please rerun this cell to show the HTML representation or trust the notebook. <br />On GitHub, the HTML representation is unable to render, please try loading this page with nbviewer.org.</b></div><div class=\"sk-container\" hidden><div class=\"sk-item\"><div class=\"sk-estimator sk-toggleable\"><input class=\"sk-toggleable__control sk-hidden--visually\" id=\"sk-estimator-id-2\" type=\"checkbox\" checked><label for=\"sk-estimator-id-2\" class=\"sk-toggleable__label sk-toggleable__label-arrow\">LogisticRegression</label><div class=\"sk-toggleable__content\"><pre>LogisticRegression(fit_intercept=False, random_state=42)</pre></div></div></div></div></div>"
      ],
      "text/plain": [
       "LogisticRegression(fit_intercept=False, random_state=42)"
      ]
     },
     "execution_count": 131,
     "metadata": {},
     "output_type": "execute_result"
    }
   ],
   "source": [
    "BestModel = LogisticRegression(**result_df.loc[result_df.Model == \"Logistic Regression\", \"Best Parametres\"].values[0], random_state= 42)\n",
    "BestModel.fit(X_train, y_train)"
   ]
  },
  {
   "cell_type": "markdown",
   "metadata": {},
   "source": [
    "#### Predicting train and test values"
   ]
  },
  {
   "cell_type": "code",
   "execution_count": 132,
   "metadata": {},
   "outputs": [
    {
     "name": "stdout",
     "output_type": "stream",
     "text": [
      "0.7478260869565218 0.7207792207792207\n",
      "[[209  85]\n",
      " [ 31 135]]\n",
      "[[141  65]\n",
      " [ 21  81]]\n"
     ]
    }
   ],
   "source": [
    "TrainPred = BestModel.predict(X_train)\n",
    "TestPred = BestModel.predict(X_test)\n",
    "\n",
    "print(accuracy_score(y_train, TrainPred), accuracy_score(y_test, TestPred))\n",
    "print(confusion_matrix(y_train, TrainPred))\n",
    "print(confusion_matrix(y_test, TestPred))"
   ]
  },
  {
   "cell_type": "code",
   "execution_count": 133,
   "metadata": {},
   "outputs": [],
   "source": [
    "filename = \"LR_BestModel_Diabetes.pkl\"\n",
    "pickle.dump(BestModel, open(filename, \"wb\"))"
   ]
  },
  {
   "cell_type": "code",
   "execution_count": null,
   "metadata": {},
   "outputs": [],
   "source": []
  },
  {
   "cell_type": "code",
   "execution_count": 134,
   "metadata": {},
   "outputs": [],
   "source": [
    "# from collections import Counter\n",
    "\n",
    "# print(\"Before SMOTE:\", Counter(y_train))\n",
    "# print(\"After SMOTE:\", Counter(y_train_smote))\n"
   ]
  },
  {
   "cell_type": "code",
   "execution_count": 92,
   "metadata": {},
   "outputs": [
    {
     "data": {
      "text/plain": [
       "(460,)"
      ]
     },
     "execution_count": 92,
     "metadata": {},
     "output_type": "execute_result"
    }
   ],
   "source": [
    "y_train.shape"
   ]
  },
  {
   "cell_type": "code",
   "execution_count": 93,
   "metadata": {},
   "outputs": [
    {
     "data": {
      "text/plain": [
       "(588,)"
      ]
     },
     "execution_count": 93,
     "metadata": {},
     "output_type": "execute_result"
    }
   ],
   "source": [
    "y_train_smote.shape"
   ]
  },
  {
   "cell_type": "code",
   "execution_count": null,
   "metadata": {},
   "outputs": [],
   "source": []
  }
 ],
 "metadata": {
  "kernelspec": {
   "display_name": "base",
   "language": "python",
   "name": "python3"
  },
  "language_info": {
   "codemirror_mode": {
    "name": "ipython",
    "version": 3
   },
   "file_extension": ".py",
   "mimetype": "text/x-python",
   "name": "python",
   "nbconvert_exporter": "python",
   "pygments_lexer": "ipython3",
   "version": "3.8.5"
  }
 },
 "nbformat": 4,
 "nbformat_minor": 2
}
